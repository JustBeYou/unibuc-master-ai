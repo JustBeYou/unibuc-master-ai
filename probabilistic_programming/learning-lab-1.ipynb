{
 "cells": [
  {
   "cell_type": "code",
   "execution_count": 43,
   "id": "a73c0306",
   "metadata": {},
   "outputs": [
    {
     "data": {
      "text/plain": [
       "simulate_mean (generic function with 1 method)"
      ]
     },
     "execution_count": 43,
     "metadata": {},
     "output_type": "execute_result"
    }
   ],
   "source": [
    "using Gen\n",
    "using Statistics\n",
    "\n",
    "η(x, c) = x / (c + x)\n",
    "g_star(x, c) = x > c ? 1 : 0\n",
    "L_star(x, c) = min(η(x, c), 1 - η(x, c))\n",
    "\n",
    "@gen function constant_model(c)\n",
    "    return L_star(c, c)\n",
    "end\n",
    "\n",
    "@gen function uniform_model(c, a, b)\n",
    "    X ~ uniform(a, b)\n",
    "    return L_star(X, c)\n",
    "end\n",
    "\n",
    "function simulate_mean(model, args, iters)\n",
    "    return mean([simulate(model, args)[] for _ in 1:iters])\n",
    "end"
   ]
  },
  {
   "cell_type": "code",
   "execution_count": 41,
   "id": "acba0208",
   "metadata": {},
   "outputs": [
    {
     "data": {
      "text/plain": [
       "0.5"
      ]
     },
     "execution_count": 41,
     "metadata": {},
     "output_type": "execute_result"
    }
   ],
   "source": [
    "simulate_mean(constant_model, (10, ), 1000)"
   ]
  },
  {
   "cell_type": "code",
   "execution_count": 78,
   "id": "1298d568",
   "metadata": {},
   "outputs": [
    {
     "data": {
      "text/plain": [
       "0.3056424664351617"
      ]
     },
     "execution_count": 78,
     "metadata": {},
     "output_type": "execute_result"
    }
   ],
   "source": [
    "simulate_mean(uniform_model, (10, 0, 4*10), 100_000)"
   ]
  },
  {
   "cell_type": "code",
   "execution_count": 48,
   "id": "8cc58074",
   "metadata": {},
   "outputs": [
    {
     "data": {
      "text/plain": [
       "DynamicDSLFunction{Any}(Dict{Symbol, Any}(), Dict{Symbol, Any}(), Type[Any, Any, Any], false, Union{Nothing, Some{Any}}[nothing, nothing, nothing], var\"##uniform_model_2#299\", Bool[0, 0, 0], false)"
      ]
     },
     "execution_count": 48,
     "metadata": {},
     "output_type": "execute_result"
    }
   ],
   "source": [
    "@gen function uniform_model_2(c, a, b)\n",
    "    X ~ uniform(a, b)\n",
    "    Y ~ bernoulli(X / (c + X))\n",
    "    \n",
    "    return g_star(X, c) == Y ? 0 : 1\n",
    "end"
   ]
  },
  {
   "cell_type": "code",
   "execution_count": 87,
   "id": "69e20e68",
   "metadata": {},
   "outputs": [
    {
     "data": {
      "text/plain": [
       "0.30726"
      ]
     },
     "execution_count": 87,
     "metadata": {},
     "output_type": "execute_result"
    }
   ],
   "source": [
    "simulate_mean(uniform_model_2, (10, 0, 4*10), 100_000)"
   ]
  }
 ],
 "metadata": {
  "kernelspec": {
   "display_name": "Julia 1.7.3",
   "language": "julia",
   "name": "julia-1.7"
  },
  "language_info": {
   "file_extension": ".jl",
   "mimetype": "application/julia",
   "name": "julia",
   "version": "1.7.3"
  }
 },
 "nbformat": 4,
 "nbformat_minor": 5
}
